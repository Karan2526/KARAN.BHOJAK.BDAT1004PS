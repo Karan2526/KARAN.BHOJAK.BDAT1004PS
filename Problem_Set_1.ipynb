{
 "cells": [
  {
   "cell_type": "markdown",
   "metadata": {},
   "source": [
    "# Problem Set 1\n"
   ]
  },
  {
   "cell_type": "markdown",
   "metadata": {},
   "source": [
    "### Question 1 C#\n",
    "What data type is each of the following?"
   ]
  },
  {
   "cell_type": "markdown",
   "metadata": {},
   "source": [
    "Output:\n",
    "\n",
    "- `5`: Integer (`int`)\n",
    "- `5.0`: Floating-point number (`float`)\n",
    "- `5 > 1`: Boolean (`bool`)\n",
    "- `'5'`: String (`str`)\n",
    "- `5 * 2`: Integer (`int`)\n",
    "- `'5' * 2`: String (`str`) \n",
    "- `'5' + '2'`: String (`str`) \n",
    "- `5 / 2`: Float (`float`)\n",
    "- `5 % 2`: Integer (`int`)\n",
    "- `{5, 2, 1}`: Set (`set`)\n",
    "- `5 == 3`: Boolean (`bool`)\n",
    "- `Pi (the number)`: Float (`float`)\n"
   ]
  },
  {
   "cell_type": "markdown",
   "metadata": {},
   "source": [
    "### Question 2 C#\n",
    "#### Write (and evaluate) C# expressions that answer these questions:"
   ]
  },
  {
   "cell_type": "markdown",
   "metadata": {},
   "source": [
    "a. How many letters are there in 'Supercalifragilisticexpialidocious'?"
   ]
  },
  {
   "cell_type": "raw",
   "metadata": {
    "vscode": {
     "languageId": "raw"
    }
   },
   "source": [
    "//used String.Length which will return the number of characters in a string.\n",
    "\n",
    "public void question_2_section_a()\n",
    "{\n",
    "    var word = \"Supercalifragilisticexpialidocious\";\n",
    "    Console.WriteLine(word.Length);\n",
    "}"
   ]
  },
  {
   "cell_type": "markdown",
   "metadata": {},
   "source": [
    "Output:\n",
    " 34"
   ]
  },
  {
   "cell_type": "markdown",
   "metadata": {},
   "source": [
    "b. Does 'Supercalifragilisticexpialidocious' contain 'ice' as a substring?"
   ]
  },
  {
   "cell_type": "raw",
   "metadata": {},
   "source": [
    "//used .contains here to check whether the the substrng is present in the string.\n",
    "\n",
    "public void question_2_section_b()\n",
    "{\n",
    "  var word = \"Supercalifragilisticexpialidocious\";\n",
    "  if (word.Contains(\"ice\"))\n",
    "      Console.WriteLine(\"\");\n",
    "}"
   ]
  },
  {
   "cell_type": "markdown",
   "metadata": {},
   "source": [
    "Output: \n",
    "Yes, the word supercalifragilisticexpialidocious contains 'ice'."
   ]
  },
  {
   "cell_type": "markdown",
   "metadata": {},
   "source": [
    "c. Which of the following words is the longest: Supercalifragilisticexpialidocious, Honorificabilitudinitatibus, or Bababadalgharaghtakamminarronnkonn?"
   ]
  },
  {
   "cell_type": "raw",
   "metadata": {},
   "source": [
    "// Iterated through the list of words and found the index of the longest word and then found the word with that index in the list.\n",
    "\n",
    "public static void question_2_section_c()\n",
    "        {\n",
    "            IList<string>words = new List<string>();\n",
    "            IList<int>length_of_words = new List<int>();\n",
    "\n",
    "            words.Add(\"Supercalifragilisticexpialidocious\");\n",
    "            words.Add(\"Honorificabilitudinitatibus\");\n",
    "            words.Add(\"Bababadalgharaghtakamminarronnkonn\");\n",
    "\n",
    "            foreach (var word in words)\n",
    "            {\n",
    "                length_of_words.Add(word.Length);\n",
    "            }\n",
    "\n",
    "            var longest = length_of_words.Max();\n",
    "            var index = length_of_words.IndexOf(longest);\n",
    "\n",
    "            Console.WriteLine(\"The longest word is : \" + words[index]);\n",
    "        }"
   ]
  },
  {
   "cell_type": "markdown",
   "metadata": {},
   "source": [
    "Output: \n",
    "The longest word is : Supercalifragilisticexpialidocious"
   ]
  },
  {
   "cell_type": "markdown",
   "metadata": {},
   "source": [
    "d. Which composer comes first in the dictionary: 'Berlioz', 'Borodin', 'Brian', 'Bartok', 'Bellini', 'Buxtehude', 'Bernstein'. Which one comes last?"
   ]
  },
  {
   "cell_type": "raw",
   "metadata": {},
   "source": [
    "//Added all the names to the list and then used .Sort() to sort the names alphabetically in ascending order and picked the first item. Then reversed the list to pick the first name by descending order.\n",
    "\n",
    "public static void question_2_section_d()\n",
    "        {\n",
    "            List<string> lst = new List<string>();\n",
    "            lst.Add(\"Berlioz\");\n",
    "            lst.Add(\"Borodin\");\n",
    "            lst.Add(\"Brian\");\n",
    "            lst.Add(\"Bartok\");\n",
    "            lst.Add(\"Bellini\");\n",
    "            lst.Add(\"Buxtehude\");\n",
    "            lst.Add(\"Bernstein\");\n",
    "            lst.Sort();\n",
    "            Console.WriteLine(\"Composer that came first in the list : \"+lst[0]);\n",
    "            lst.Reverse();\n",
    "            Console.WriteLine(\"Composer that came last in the list : \"+lst[0]);\n",
    "        }"
   ]
  },
  {
   "cell_type": "markdown",
   "metadata": {},
   "source": [
    "Output: \n",
    "Composer that came first in the list:Bartok\n",
    "Composer that came last in the list: Buxtehude"
   ]
  },
  {
   "cell_type": "markdown",
   "metadata": {},
   "source": [
    "### Question 3 C#\n",
    "\n",
    "Implement function triangleArea(a,b,c) that takes as input the lengths of the 3 sides of a triangle and returns the area of the triangle. By Heron's formula, the area of a triangle with side lengths a, b, and c is s(s-a)(s-b)(s-c), where\n",
    "s=(a+b+c)/2."
   ]
  },
  {
   "cell_type": "raw",
   "metadata": {},
   "source": [
    "//Used Math.Sqrt() to get the square root of s.\n",
    "\n",
    "public static void triangleArea(int a,int b,int c)\n",
    "        {\n",
    "            var s = (a + b + c) / 2;\n",
    "            var area = Math.Sqrt(s * ((s - a) * (s - b) * (s - c)));\n",
    "            Console.WriteLine(area);\n",
    "        }"
   ]
  },
  {
   "cell_type": "markdown",
   "metadata": {},
   "source": [
    "Output:\n",
    "1.7320508075688772"
   ]
  },
  {
   "cell_type": "markdown",
   "metadata": {},
   "source": [
    "### Question 4 C#\n",
    "\n",
    "Write a program in C# Sharp to separate odd and even integers in separate arrays."
   ]
  },
  {
   "cell_type": "raw",
   "metadata": {},
   "source": [
    "//asked the no of inputs user want to enter. Then checked if the number is even or odd by modulus by 2. \n",
    "\n",
    "public static void question_4()\n",
    "        {\n",
    "            List<int> lst = new List<int>();\n",
    "            List<int> even = new List<int>();\n",
    "            List<int> odd = new List<int>();\n",
    "            Console.Write(\"Input the number of elements to be stored in array : \");\n",
    "            var number = Console.ReadLine();\n",
    "            Console.WriteLine(\"Input \"+number+\" elements in the array :\");\n",
    "            var i = 0;\n",
    "            while(i < int.Parse(number))\n",
    "            {\n",
    "                Console.Write(\"element - \" + i + \" : \");\n",
    "                string value_entered = Console.ReadLine();\n",
    "                lst.Add(Convert.ToInt32(value_entered));\n",
    "                i++;\n",
    "            }\n",
    "            foreach(var val in lst)\n",
    "            {\n",
    "                if(val%2==0)\n",
    "                {\n",
    "                    even.Add(val);\n",
    "                }\n",
    "                else\n",
    "                {\n",
    "                    odd.Add(val);\n",
    "                }\n",
    "            }\n",
    "            Console.WriteLine(\"The Even elements are:\");\n",
    "\n",
    "            foreach(var val in even)\n",
    "            {\n",
    "                Console.Write(val + \" \");\n",
    "            }\n",
    "            Console.WriteLine(\" \");\n",
    "            Console.WriteLine(\"The Odd elements are:\");\n",
    "\n",
    "            foreach (var val in odd)\n",
    "            {\n",
    "                Console.Write(val + \" \");\n",
    "            }\n",
    "        }\n"
   ]
  },
  {
   "cell_type": "markdown",
   "metadata": {},
   "source": [
    "Output:\n",
    "Input the number of elements to be stored in array :\n",
    "System.Int32\n",
    "System. Double\n",
    "System.Boolean\n",
    "Input the number of elements to be stored in array : 5\n",
    "Input 5 elemenrs in the array:\n",
    "element - 0 : 25\n",
    "element - 1 : 47\n",
    "element - 2 : 42\n",
    "element - 3 : 56\n",
    "element - 4 : 32\n",
    "The Even elemnets are: 42 56 32\n",
    "The Odd elemnets are: 25 47\n"
   ]
  },
  {
   "cell_type": "markdown",
   "metadata": {},
   "source": [
    "### Question 5 C#"
   ]
  },
  {
   "cell_type": "markdown",
   "metadata": {},
   "source": [
    "a. Write a function inside(x,y,x1,y1,x2,y2) that returns True or False depending on whether the point (x,y) lies in the rectangle with lower left corner (x1,y1) and upper right corner (x2,y2)."
   ]
  },
  {
   "cell_type": "raw",
   "metadata": {},
   "source": [
    "//Compared the the point to check should be greater than the lower keft corner and smaller than the upper right corner.\n",
    "\n",
    "public static bool inside(int x,int y,int x1,int y1,int x2,int y2)\n",
    "        {\n",
    "            if (x > x1 && x < x2 && y > y1 && y < y2)\n",
    "            {\n",
    "                return true;\n",
    "            }\n",
    "            else\n",
    "                return false;\n",
    "        }"
   ]
  },
  {
   "cell_type": "markdown",
   "metadata": {},
   "source": [
    "Output:\n",
    "True\n",
    "False"
   ]
  },
  {
   "cell_type": "markdown",
   "metadata": {},
   "source": [
    "b. Use function inside() from part a. to write an expression that tests whether the point (1,1) lies in both of the following rectangles: one with lower left corner (0.3, 0.5) and upper right corner (1.1, 0.7) and the other with lower left corner (0.5, 0.2) and upper right corner (1.1, 2)."
   ]
  },
  {
   "cell_type": "raw",
   "metadata": {},
   "source": [
    "//Compared the the point to check should be greater than the lower keft corner and smaller than the upper right corner.\n",
    "\n",
    "public static void inside(int x, int y, double x1, double y1, double x2, double y2,double x3,double y3,double x4,double y4)\n",
    "        {\n",
    "            if (x > x1 && x < x2 && y > y1 && y < y2)\n",
    "            {\n",
    "                if(x > x3 && x < x4 && y > y3 && y < y4)\n",
    "                {\n",
    "                    Console.WriteLine(\"True\");\n",
    "                }\n",
    "            }\n",
    "            else\n",
    "                Console.WriteLine(\"False\");\n",
    "        }"
   ]
  },
  {
   "cell_type": "markdown",
   "metadata": {},
   "source": [
    "### Question 6 Python"
   ]
  },
  {
   "cell_type": "markdown",
   "metadata": {},
   "source": [
    "16. You can turn a word into pig-Latin using the following two rules (simplified):\n",
    "<br />\n",
    "• If the word starts with a consonant, move that letter to the end and append 'ay'. For example, 'happy' becomes 'appyhay' and 'pencil' becomes 'encilpay'.\n",
    "<br />\n",
    "• If the word starts with a vowel, simply append 'way' to the end of the word. For example, 'enter' becomes 'enterway' and 'other' becomes 'otherway' . For our purposes, there are 5 vowels: a, e, i, o, u (so we count y as a consonant). \n",
    "<br />\n",
    "Write a function pig() that takes a word (i.e., a string) as input and returns its pig- Latin form. Your function should still work if the input word contains upper case characters. Your output should always be lower case however."
   ]
  },
  {
   "cell_type": "code",
   "execution_count": 2,
   "metadata": {},
   "outputs": [],
   "source": [
    "# list of vowels\n",
    "vowels = ['a','e','i','o','u']\n",
    "def pig(word):\n",
    "    \n",
    "    #checking if the word starts with vowel or not\n",
    "    if word[0].lower() in vowels:\n",
    "        print(word.lower() + 'way')\n",
    "    else:\n",
    "        first_letter = word[0]\n",
    "        print(word[1:].lower()+first_letter.lower()+'ay')"
   ]
  },
  {
   "cell_type": "code",
   "execution_count": 3,
   "metadata": {},
   "outputs": [
    {
     "name": "stdout",
     "output_type": "stream",
     "text": [
      "appyhay\n"
     ]
    }
   ],
   "source": [
    "pig('happy')"
   ]
  },
  {
   "cell_type": "code",
   "execution_count": 4,
   "metadata": {},
   "outputs": [
    {
     "name": "stdout",
     "output_type": "stream",
     "text": [
      "enterway\n"
     ]
    }
   ],
   "source": [
    "pig('Enter')"
   ]
  },
  {
   "cell_type": "markdown",
   "metadata": {},
   "source": [
    "### Question 7 Python\n",
    "\n",
    "File bloodtype1.txt records blood-types of patients (A, B, AB, O or OO) at a clinic. Write a function bldcount() that reads the file with name name and reports (i.e., prints) how many patients there are in each bloodtype."
   ]
  },
  {
   "cell_type": "code",
   "execution_count": 10,
   "metadata": {},
   "outputs": [],
   "source": [
    "def bldcount(filename):\n",
    "    \n",
    "    #reading the file\n",
    "    x = open(filename,'r')\n",
    "    words = x.readline()\n",
    "    lst = []\n",
    "    blood_types = ['A','B','AB','O','OO']\n",
    "    \n",
    "    #Spliting the words and storing them in a list\n",
    "    lst.append(words.split(\" \"))\n",
    "    \n",
    "    #checking the count for each blood type\n",
    "    for blood_type in blood_types:\n",
    "        print(\"There are {} patients of blood type {}.\".format(lst[0].count(blood_type),blood_type))"
   ]
  },
  {
   "cell_type": "code",
   "execution_count": 11,
   "metadata": {},
   "outputs": [
    {
     "name": "stdout",
     "output_type": "stream",
     "text": [
      "There are 15 patients of blood type A.\n",
      "There are 1 patients of blood type B.\n",
      "There are 13 patients of blood type AB.\n",
      "There are 15 patients of blood type O.\n",
      "There are 0 patients of blood type OO.\n"
     ]
    }
   ],
   "source": [
    "bldcount('bloodtype.txt')"
   ]
  },
  {
   "cell_type": "markdown",
   "metadata": {},
   "source": [
    "### Question 8 Python"
   ]
  },
  {
   "cell_type": "markdown",
   "metadata": {},
   "source": [
    "Write a function curconv() that takes as input:\n",
    "<br />\n",
    "1. a currency represented using a string (e.g., 'JPY' for the Japanese Yen or 'EUR' for the Euro)\n",
    "<br />\n",
    "2. an amount\n",
    "<br />\n",
    "and then converts and returns the amount in US dollars."
   ]
  },
  {
   "cell_type": "code",
   "execution_count": 12,
   "metadata": {},
   "outputs": [],
   "source": [
    "def curconv(currency,amount):\n",
    "    currencies = {}\n",
    "    \n",
    "    #reading the file\n",
    "    cur_file = open('currencies.txt')\n",
    "    lines = cur_file.readlines()\n",
    "    \n",
    "    #storing the currency in the key and it's corresponding $ value and name in value.\n",
    "    for x in lines:\n",
    "        currencies[x[:3].strip()] = x[4:].split(\"\\t\")\n",
    "    value = currencies[currency][0].strip()\n",
    "    print(amount * float(value))"
   ]
  },
  {
   "cell_type": "code",
   "execution_count": 13,
   "metadata": {},
   "outputs": [
    {
     "name": "stdout",
     "output_type": "stream",
     "text": [
      "122.96544\n"
     ]
    }
   ],
   "source": [
    "curconv('EUR', 100)"
   ]
  },
  {
   "cell_type": "code",
   "execution_count": 14,
   "metadata": {},
   "outputs": [
    {
     "name": "stdout",
     "output_type": "stream",
     "text": [
      "1.241401\n"
     ]
    }
   ],
   "source": [
    "curconv('JPY', 100)"
   ]
  },
  {
   "cell_type": "markdown",
   "metadata": {},
   "source": [
    "### Question 9 Python"
   ]
  },
  {
   "cell_type": "markdown",
   "metadata": {},
   "source": [
    "Each of the following will cause an exception (an error). Identify what type of exception each will cause."
   ]
  },
  {
   "cell_type": "markdown",
   "metadata": {},
   "source": [
    "|Error|Error Message|\n",
    "|:---:|:---:|\n",
    "|Trying to add incompatible variables, as in adding 6 + ‘a’|Unsupported type|\n",
    "|Referring to the 12th item of a list that has only 10 items|Out of index|\n",
    "|Using a value that is out of range for a function’s input, such as calling math.sqrt(-1.0)|domain error|\n",
    "|Using an undeclared variable, such as print(x) when x has not been defined|variable not defined|\n",
    "|Trying to open a file that does not exist, such as mistyping the file name or looking in the wrong directory.|No such directory found|"
   ]
  },
  {
   "cell_type": "markdown",
   "metadata": {},
   "source": [
    "### Question 10 Python"
   ]
  },
  {
   "cell_type": "markdown",
   "metadata": {},
   "source": [
    "Encryption is the process of hiding the meaning of a text by substituting letters in the message with other letters, according to some system. If the process is successful, no one but the intended recipient can understand the encrypted message. Cryptanalysis refers to attempts to undo the encryption, even if some details of the encryption are unknown (for example, if an encrypted message has been intercepted). The first step of cryptanalysis is often to build up a table of letter frequencies in the encrypted text. Assume that the string letters is already defined as 'abcdefghijklmnopqrstuvwxyz'. Write a function called frequencies() that takes a string as its only parameter, and returns a list of integers, showing the number of times each character appears in the text. Your function may ignore any characters that are not in letters."
   ]
  },
  {
   "cell_type": "code",
   "execution_count": 18,
   "metadata": {},
   "outputs": [],
   "source": [
    "def frequencies(text):\n",
    "    \n",
    "    #set of alphabets\n",
    "    alphabets = ('a','b','c','d','e','f','g','h','i','j','k','l','m','n','o','p','q','r','s','t','u','v','w','x','y','z')\n",
    "    total_characters = []\n",
    "    alpha_dict = {}\n",
    "    #picking character from every word of input and appending it to total_character list.\n",
    "    for word in text:\n",
    "        for char in word:\n",
    "            if char.isalpha():\n",
    "                total_characters.append(char)\n",
    "    #checking if the alphabet is present in the total_character list than assigning it it's count otherwise 0\n",
    "    for char in alphabets:\n",
    "        if char in total_characters:\n",
    "            alpha_dict[char] = total_characters.count(char)\n",
    "        else:\n",
    "            alpha_dict[char] = 0\n",
    "            \n",
    "    #printing out the values(count) of the alphabets present in the total_character list\n",
    "    print(list(alpha_dict.values()))"
   ]
  },
  {
   "cell_type": "code",
   "execution_count": 19,
   "metadata": {},
   "outputs": [
    {
     "name": "stdout",
     "output_type": "stream",
     "text": [
      "[1, 1, 1, 3, 5, 1, 1, 2, 1, 0, 1, 0, 1, 2, 4, 0, 1, 2, 0, 2, 1, 0, 1, 1, 0, 0]\n"
     ]
    }
   ],
   "source": [
    "frequencies('The quick red fox got bored and went home.')"
   ]
  },
  {
   "cell_type": "code",
   "execution_count": 21,
   "metadata": {},
   "outputs": [
    {
     "name": "stdout",
     "output_type": "stream",
     "text": [
      "[1, 0, 0, 0, 1, 0, 0, 0, 0, 0, 0, 1, 0, 0, 0, 2, 0, 0, 0, 0, 0, 0, 0, 0, 0, 0]\n"
     ]
    }
   ],
   "source": [
    "frequencies('apple')"
   ]
  },
  {
   "cell_type": "code",
   "execution_count": null,
   "metadata": {},
   "outputs": [],
   "source": []
  }
 ],
 "metadata": {
  "kernelspec": {
   "display_name": "Python 3",
   "language": "python",
   "name": "python3"
  },
  "language_info": {
   "codemirror_mode": {
    "name": "ipython",
    "version": 3
   },
   "file_extension": ".py",
   "mimetype": "text/x-python",
   "name": "python",
   "nbconvert_exporter": "python",
   "pygments_lexer": "ipython3",
   "version": "3.8.5"
  }
 },
 "nbformat": 4,
 "nbformat_minor": 4
}

